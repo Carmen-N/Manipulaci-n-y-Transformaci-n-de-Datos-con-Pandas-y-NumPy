{
  "nbformat": 4,
  "nbformat_minor": 0,
  "metadata": {
    "colab": {
      "provenance": [],
      "toc_visible": true,
      "authorship_tag": "ABX9TyPOBWNdYE8n0xAPeX2I8nwj",
      "include_colab_link": true
    },
    "kernelspec": {
      "name": "python3",
      "display_name": "Python 3"
    },
    "language_info": {
      "name": "python"
    }
  },
  "cells": [
    {
      "cell_type": "markdown",
      "metadata": {
        "id": "view-in-github",
        "colab_type": "text"
      },
      "source": [
        "<a href=\"https://colab.research.google.com/github/Carmen-N/Transformacion-de-Datos-con-Pandas-y-NumPy/blob/master/Datos_con_Pandas_y_NumPy.ipynb\" target=\"_parent\"><img src=\"https://colab.research.google.com/assets/colab-badge.svg\" alt=\"Open In Colab\"/></a>"
      ]
    },
    {
      "cell_type": "code",
      "execution_count": 6,
      "metadata": {
        "id": "2d1si98WTDD-"
      },
      "outputs": [],
      "source": [
        "import pandas as pd \n",
        "import numpy as np\n"
      ]
    },
    {
      "cell_type": "markdown",
      "source": [
        "El array es el principal objeto de la librería. \n",
        "\n",
        "Representa datos de manera estructurada y se puede acceder a ellos a través del indexado, a un dato específico o un grupo de muchos datos específicos"
      ],
      "metadata": {
        "id": "YVkCVlQ0TUV7"
      }
    },
    {
      "cell_type": "code",
      "source": [
        "lista = [1, 2 , 3, 4, 5, 6, 7, 8, 9] \n",
        "lista "
      ],
      "metadata": {
        "colab": {
          "base_uri": "https://localhost:8080/"
        },
        "id": "TSNhJLo3ThTB",
        "outputId": "c15d41fe-d517-464f-abeb-dffa94b92da9"
      },
      "execution_count": null,
      "outputs": [
        {
          "output_type": "execute_result",
          "data": {
            "text/plain": [
              "[1, 2, 3, 4, 5, 6, 7, 8, 9]"
            ]
          },
          "metadata": {},
          "execution_count": 2
        }
      ]
    },
    {
      "cell_type": "markdown",
      "source": [
        "Volvemos nuestra lista, un array"
      ],
      "metadata": {
        "id": "ThRzLH7nUt6o"
      }
    },
    {
      "cell_type": "markdown",
      "source": [],
      "metadata": {
        "id": "zLsrzgrxUrs0"
      }
    },
    {
      "cell_type": "code",
      "source": [
        "arr = np.array(lista)\n",
        "arr\n"
      ],
      "metadata": {
        "colab": {
          "base_uri": "https://localhost:8080/"
        },
        "id": "PmaUeLagT584",
        "outputId": "fba5ab16-47cf-4eef-8fbd-5a3ef09ded60"
      },
      "execution_count": null,
      "outputs": [
        {
          "output_type": "execute_result",
          "data": {
            "text/plain": [
              "array([1, 2, 3, 4, 5, 6, 7, 8, 9])"
            ]
          },
          "metadata": {},
          "execution_count": 18
        }
      ]
    },
    {
      "cell_type": "markdown",
      "source": [],
      "metadata": {
        "id": "Kfn1Ai2uU2KB"
      }
    },
    {
      "cell_type": "markdown",
      "source": [
        "Una matriz son varios Vectores o **listas** agrupadas una encima de la otra, es como una tabla de Excel"
      ],
      "metadata": {
        "id": "znhzQLSHU4yp"
      }
    },
    {
      "cell_type": "code",
      "source": [
        "matriz = [[1, 2, 3], [4, 5, 6], [7, 8, 9]]\n",
        "matriz = np.array(matriz)\n",
        "matriz\n"
      ],
      "metadata": {
        "colab": {
          "base_uri": "https://localhost:8080/"
        },
        "id": "8ZdbutKmU8ub",
        "outputId": "89dad935-4135-47ba-ea28-48ed056ba6e3"
      },
      "execution_count": null,
      "outputs": [
        {
          "output_type": "execute_result",
          "data": {
            "text/plain": [
              "array([[1, 2, 3],\n",
              "       [4, 5, 6],\n",
              "       [7, 8, 9]])"
            ]
          },
          "metadata": {},
          "execution_count": 17
        }
      ]
    },
    {
      "cell_type": "markdown",
      "source": [
        "El indexado nos permite acceder a los elementos de los array y matrices\n",
        "\n",
        "Los elementos **se empiezan a contar desde 0.**"
      ],
      "metadata": {
        "id": "gC6Wk9ivVLRZ"
      }
    },
    {
      "cell_type": "code",
      "source": [
        "arr[0]"
      ],
      "metadata": {
        "colab": {
          "base_uri": "https://localhost:8080/"
        },
        "id": "Hu4wnx-kVWDo",
        "outputId": "4a599b4e-c2bf-41ca-a441-a08694f5847a"
      },
      "execution_count": null,
      "outputs": [
        {
          "output_type": "execute_result",
          "data": {
            "text/plain": [
              "1"
            ]
          },
          "metadata": {},
          "execution_count": 19
        }
      ]
    },
    {
      "cell_type": "markdown",
      "source": [
        "Index\t0\t1\t2\t3\t4\t5\t6\t7\t8\n",
        "\n",
        "\n",
        "0\t1\t2\t3\t4\t5\t6\t7\t8\t9"
      ],
      "metadata": {
        "id": "-ZGmoOZZWiSW"
      }
    },
    {
      "cell_type": "markdown",
      "source": [
        "Es posible operar directamente con los elementos."
      ],
      "metadata": {
        "id": "72xlTZyjX9EA"
      }
    },
    {
      "cell_type": "code",
      "source": [
        "arr[0] + arr[5]"
      ],
      "metadata": {
        "colab": {
          "base_uri": "https://localhost:8080/"
        },
        "id": "wQdgMmO5YAzE",
        "outputId": "be2f52c1-a4cf-4f66-d25d-00831d1ef2e6"
      },
      "execution_count": null,
      "outputs": [
        {
          "output_type": "execute_result",
          "data": {
            "text/plain": [
              "7"
            ]
          },
          "metadata": {},
          "execution_count": 20
        }
      ]
    },
    {
      "cell_type": "markdown",
      "source": [
        "0\t+\t5\n",
        "1\t\t6"
      ],
      "metadata": {
        "id": "V3tdQppbY5ys"
      }
    },
    {
      "cell_type": "markdown",
      "source": [],
      "metadata": {
        "id": "Hplr-eR8Y5oG"
      }
    },
    {
      "cell_type": "code",
      "source": [],
      "metadata": {
        "id": "BCJdXZ5VY8KR"
      },
      "execution_count": null,
      "outputs": []
    },
    {
      "cell_type": "markdown",
      "source": [
        "En el caso de las matrices, al indexar una posición se regresa el array de dicha posición."
      ],
      "metadata": {
        "id": "PV1PuTfVY_i5"
      }
    },
    {
      "cell_type": "code",
      "source": [
        "matriz[0]\n"
      ],
      "metadata": {
        "colab": {
          "base_uri": "https://localhost:8080/"
        },
        "id": "Q9US-_iyZFwQ",
        "outputId": "452fa4d7-71fc-4855-9884-9dbbd8353c4e"
      },
      "execution_count": null,
      "outputs": [
        {
          "output_type": "execute_result",
          "data": {
            "text/plain": [
              "array([1, 2, 3])"
            ]
          },
          "metadata": {},
          "execution_count": 24
        }
      ]
    },
    {
      "cell_type": "markdown",
      "source": [
        "Para seleccionar un solo elemento de la matriz se especifica la posición del elemento separada por comas.\n",
        "\n",
        "Nota: El primer elemento selecciona las filas, el segundo elemento las columnas"
      ],
      "metadata": {
        "id": "P-t6XCPJZPJA"
      }
    },
    {
      "cell_type": "code",
      "source": [
        "matriz[0, 2]"
      ],
      "metadata": {
        "colab": {
          "base_uri": "https://localhost:8080/"
        },
        "id": "JMwaMws1Zb5S",
        "outputId": "535c3d52-8722-4e35-a51a-176ffd53f505"
      },
      "execution_count": null,
      "outputs": [
        {
          "output_type": "execute_result",
          "data": {
            "text/plain": [
              "3"
            ]
          },
          "metadata": {},
          "execution_count": 25
        }
      ]
    },
    {
      "cell_type": "markdown",
      "source": [
        "# Slicing\n",
        "Nos permite extraer varios datos, tiene un comienzo y un final.\n",
        "En este ejemplo se está extrayendo datos desde la posición 1 hasta la 5"
      ],
      "metadata": {
        "id": "vOvsYstJZfrh"
      }
    },
    {
      "cell_type": "code",
      "source": [
        "Slicing\n",
        "Nos permite extraer varios datos, tiene un comienzo y un final.\n",
        "En este ejemplo se está extrayendo datos desde la posición 1 hasta la 5"
      ],
      "metadata": {
        "id": "tLtltuRNZlDA"
      },
      "execution_count": null,
      "outputs": []
    },
    {
      "cell_type": "code",
      "source": [
        "arr[1:6]"
      ],
      "metadata": {
        "colab": {
          "base_uri": "https://localhost:8080/"
        },
        "id": "Yyh4S950oH8r",
        "outputId": "113124ec-c4f6-4cb4-ae39-6beb98d69ccb"
      },
      "execution_count": null,
      "outputs": [
        {
          "output_type": "execute_result",
          "data": {
            "text/plain": [
              "array([2, 3, 4, 5, 6])"
            ]
          },
          "metadata": {},
          "execution_count": 26
        }
      ]
    },
    {
      "cell_type": "markdown",
      "source": [
        "Si no se ingresa el valor de inicio, se toma el inicio como la posición 0."
      ],
      "metadata": {
        "id": "g79njrAxoSUw"
      }
    },
    {
      "cell_type": "code",
      "source": [
        "arr[:6]"
      ],
      "metadata": {
        "colab": {
          "base_uri": "https://localhost:8080/"
        },
        "id": "Caimul1GoUXO",
        "outputId": "858c78e4-177f-442c-d3ef-1d56fe0bd1bc"
      },
      "execution_count": null,
      "outputs": [
        {
          "output_type": "execute_result",
          "data": {
            "text/plain": [
              "array([1, 2, 3, 4, 5, 6])"
            ]
          },
          "metadata": {},
          "execution_count": 27
        }
      ]
    },
    {
      "cell_type": "markdown",
      "source": [
        "En cambio, si no se le da una posición final, se regresan todos los elementos hasta el final del array."
      ],
      "metadata": {
        "id": "eVk0bEpHoann"
      }
    },
    {
      "cell_type": "code",
      "source": [],
      "metadata": {
        "id": "Z_lE7F_Ew_70"
      },
      "execution_count": null,
      "outputs": []
    },
    {
      "cell_type": "code",
      "source": [
        "arr[2:]"
      ],
      "metadata": {
        "colab": {
          "base_uri": "https://localhost:8080/"
        },
        "id": "YiL5qiLmxAB6",
        "outputId": "0a6f672e-d836-472a-877a-535b9e562f97"
      },
      "execution_count": null,
      "outputs": [
        {
          "output_type": "execute_result",
          "data": {
            "text/plain": [
              "array([3, 4, 5, 6, 7, 8, 9])"
            ]
          },
          "metadata": {},
          "execution_count": 28
        }
      ]
    },
    {
      "cell_type": "markdown",
      "source": [
        "También se puede trabajar por pasos."
      ],
      "metadata": {
        "id": "mKMefJAYxGLN"
      }
    },
    {
      "cell_type": "code",
      "source": [
        "arr[::3]"
      ],
      "metadata": {
        "colab": {
          "base_uri": "https://localhost:8080/"
        },
        "id": "3RDDtZRwxHau",
        "outputId": "56595374-bf4d-46ac-a488-7ba1bc315c66"
      },
      "execution_count": null,
      "outputs": [
        {
          "output_type": "execute_result",
          "data": {
            "text/plain": [
              "array([1, 4, 7])"
            ]
          },
          "metadata": {},
          "execution_count": 29
        }
      ]
    },
    {
      "cell_type": "markdown",
      "source": [
        "Cuando se le asigna un valor negativo se regresan los valores comenzando desde la última posición del array."
      ],
      "metadata": {
        "id": "lDAg68EYxVpH"
      }
    },
    {
      "cell_type": "code",
      "source": [],
      "metadata": {
        "id": "hIGdQeNbxF2m"
      },
      "execution_count": null,
      "outputs": []
    },
    {
      "cell_type": "code",
      "source": [
        "arr[-1]"
      ],
      "metadata": {
        "colab": {
          "base_uri": "https://localhost:8080/"
        },
        "id": "o_JqyewoxXW3",
        "outputId": "f1fec002-c648-42b3-9c94-807bf0cac5d9"
      },
      "execution_count": null,
      "outputs": [
        {
          "output_type": "execute_result",
          "data": {
            "text/plain": [
              "9"
            ]
          },
          "metadata": {},
          "execution_count": 30
        }
      ]
    },
    {
      "cell_type": "code",
      "source": [
        "arr[-3:]"
      ],
      "metadata": {
        "colab": {
          "base_uri": "https://localhost:8080/"
        },
        "id": "06ni7nTjxb1P",
        "outputId": "a2982b87-e5df-4d8b-9f8a-dd487da058e4"
      },
      "execution_count": null,
      "outputs": [
        {
          "output_type": "execute_result",
          "data": {
            "text/plain": [
              "array([7, 8, 9])"
            ]
          },
          "metadata": {},
          "execution_count": 31
        }
      ]
    },
    {
      "cell_type": "markdown",
      "source": [
        "Para el caso de las matrices, sucede algo similar.\n",
        "Para acceder a los valores entre filas.\n",
        "1 2 3 4 5 6 7 8 9"
      ],
      "metadata": {
        "id": "YEtfFhXPxjCW"
      }
    },
    {
      "cell_type": "code",
      "source": [
        "matriz[1:]"
      ],
      "metadata": {
        "colab": {
          "base_uri": "https://localhost:8080/"
        },
        "id": "e0E0Sr_ZxnK1",
        "outputId": "04415c53-a855-45ed-da36-b639563ffdd4"
      },
      "execution_count": null,
      "outputs": [
        {
          "output_type": "execute_result",
          "data": {
            "text/plain": [
              "array([[4, 5, 6],\n",
              "       [7, 8, 9]])"
            ]
          },
          "metadata": {},
          "execution_count": 32
        }
      ]
    },
    {
      "cell_type": "markdown",
      "source": [
        "Para acceder a los valores entre filas y columnas."
      ],
      "metadata": {
        "id": "hUU2UktYyg9n"
      }
    },
    {
      "cell_type": "code",
      "source": [
        "matriz[1:, 0:2]"
      ],
      "metadata": {
        "colab": {
          "base_uri": "https://localhost:8080/"
        },
        "id": "rTi9d9YBym7u",
        "outputId": "f27c1289-03a2-4ab6-e1c0-74d8169ca002"
      },
      "execution_count": null,
      "outputs": [
        {
          "output_type": "execute_result",
          "data": {
            "text/plain": [
              "array([[4, 5],\n",
              "       [7, 8]])"
            ]
          },
          "metadata": {},
          "execution_count": 33
        }
      ]
    },
    {
      "cell_type": "markdown",
      "source": [
        "**Crea una matriz de 3 dimensiones y cuéntanos:**\n",
        "\n",
        "\n",
        "¿Qué pudiste hacer?\n",
        "\n",
        "¿Cómo hacer un Slicing de los datos?"
      ],
      "metadata": {
        "id": "Pjcy7C5nyp79"
      }
    },
    {
      "cell_type": "code",
      "source": [],
      "metadata": {
        "id": "wlp5XY42y4T9"
      },
      "execution_count": null,
      "outputs": []
    },
    {
      "cell_type": "markdown",
      "source": [
        "Cómo crear y manipular un array de 3 dimensiones"
      ],
      "metadata": {
        "id": "0IfPQ1QA1K-8"
      }
    },
    {
      "cell_type": "markdown",
      "source": [
        "Importamos Numpy"
      ],
      "metadata": {
        "id": "SjEjCI2T234k"
      }
    },
    {
      "cell_type": "code",
      "source": [
        "import numpy as np"
      ],
      "metadata": {
        "id": "lUhij7d726mU"
      },
      "execution_count": null,
      "outputs": []
    },
    {
      "cell_type": "code",
      "source": [
        "dimension3 = [[[1,2],[3,4]], [[5,6], [7,8]], [[9,10], [11,12]]]\n",
        "dimension3"
      ],
      "metadata": {
        "colab": {
          "base_uri": "https://localhost:8080/"
        },
        "id": "PWmv_D4t29af",
        "outputId": "c0b26f69-8aaf-4aa8-9ebf-cb8628d7ff3e"
      },
      "execution_count": null,
      "outputs": [
        {
          "output_type": "execute_result",
          "data": {
            "text/plain": [
              "[[[1, 2], [3, 4]], [[5, 6], [7, 8]], [[9, 10], [11, 12]]]"
            ]
          },
          "metadata": {},
          "execution_count": 35
        }
      ]
    },
    {
      "cell_type": "markdown",
      "source": [
        "Creamos nuestro array, una manera sencilla de entender cómo funciona es por los corchetes que tiene.\n",
        "\n",
        "Es como poner varias matrices juntas.\n",
        "\n",
        "\n",
        "[[1,2],[3,4]] <-- Primera matriz\n",
        "[[5,6], [7,8]] <-- Segunda matriz\n",
        "[[9,10], [11,12]] <-- Tercera matriz"
      ],
      "metadata": {
        "id": "lAaVz3qv2_qs"
      }
    },
    {
      "cell_type": "code",
      "source": [],
      "metadata": {
        "id": "yUNzrLzD3CjK"
      },
      "execution_count": null,
      "outputs": []
    },
    {
      "cell_type": "markdown",
      "source": [
        "Pasamos nuesta matriz por numpy"
      ],
      "metadata": {
        "id": "vN4gt_Aa3TaM"
      }
    },
    {
      "cell_type": "code",
      "source": [
        "dimension3 = np.array(dimension3)\n",
        "dimension3"
      ],
      "metadata": {
        "colab": {
          "base_uri": "https://localhost:8080/"
        },
        "id": "RZxJYi183XOc",
        "outputId": "c0210234-be0b-4598-b3f6-4b1e43909b8b"
      },
      "execution_count": null,
      "outputs": [
        {
          "output_type": "execute_result",
          "data": {
            "text/plain": [
              "array([[[ 1,  2],\n",
              "        [ 3,  4]],\n",
              "\n",
              "       [[ 5,  6],\n",
              "        [ 7,  8]],\n",
              "\n",
              "       [[ 9, 10],\n",
              "        [11, 12]]])"
            ]
          },
          "metadata": {},
          "execution_count": 39
        }
      ]
    },
    {
      "cell_type": "markdown",
      "source": [
        "Los ejes de 3 dimesiones son Z, Y, X. En ese orden los vamos a usar.\n",
        "\n",
        "dimension3[Z,Y,X]\n",
        "\n",
        "\n",
        "La Z representa la profundidad, en este caso los niveles que tenemos.\n",
        "\n",
        "\n",
        "[ 1,  2],\n",
        "[ 3,  4] ,       <-- posición 0 \n",
        "\n",
        "   [ 5,  6],\n",
        "    [ 7,  8],     <-- posición 1\n",
        "\n",
        "   [ 9, 10],\n",
        "    [11, 12]    <--posición 2"
      ],
      "metadata": {
        "id": "8Gxm_u8a3b29"
      }
    },
    {
      "cell_type": "code",
      "source": [
        "dimension3[2]"
      ],
      "metadata": {
        "colab": {
          "base_uri": "https://localhost:8080/"
        },
        "id": "DuqothOu3t5M",
        "outputId": "902253d3-4879-4e24-9723-6ee9ddfc7ac2"
      },
      "execution_count": null,
      "outputs": [
        {
          "output_type": "execute_result",
          "data": {
            "text/plain": [
              "array([[ 9, 10],\n",
              "       [11, 12]])"
            ]
          },
          "metadata": {},
          "execution_count": 41
        }
      ]
    },
    {
      "cell_type": "code",
      "source": [
        "dimension3[2,1]"
      ],
      "metadata": {
        "colab": {
          "base_uri": "https://localhost:8080/"
        },
        "id": "e6w-hnrn3w_E",
        "outputId": "e26d8b98-f787-45bd-8dda-1d8c9eba2b8c"
      },
      "execution_count": null,
      "outputs": [
        {
          "output_type": "execute_result",
          "data": {
            "text/plain": [
              "array([11, 12])"
            ]
          },
          "metadata": {},
          "execution_count": 42
        }
      ]
    },
    {
      "cell_type": "code",
      "source": [
        "dimension3[2,1,0]"
      ],
      "metadata": {
        "colab": {
          "base_uri": "https://localhost:8080/"
        },
        "id": "BjzIeT4l30lV",
        "outputId": "64ad4a41-b453-451f-ade4-8efcb0477675"
      },
      "execution_count": null,
      "outputs": [
        {
          "output_type": "execute_result",
          "data": {
            "text/plain": [
              "11"
            ]
          },
          "metadata": {},
          "execution_count": 43
        }
      ]
    },
    {
      "cell_type": "markdown",
      "source": [
        "# ¿Cómo hacer Slicing?"
      ],
      "metadata": {
        "id": "rg_8rM8f32aV"
      }
    },
    {
      "cell_type": "markdown",
      "source": [
        "Es de la misma manera que en una matriz de 2 dimensiones, simplemente le ponemos un paramétro más"
      ],
      "metadata": {
        "id": "DwBW50gX37H9"
      }
    },
    {
      "cell_type": "code",
      "source": [
        "dimension3[:2,::,1: ]"
      ],
      "metadata": {
        "colab": {
          "base_uri": "https://localhost:8080/"
        },
        "id": "8IfQZxy339DW",
        "outputId": "769aadca-bdd9-4ffe-d8bc-05ed85077860"
      },
      "execution_count": null,
      "outputs": [
        {
          "output_type": "execute_result",
          "data": {
            "text/plain": [
              "array([[[2],\n",
              "        [4]],\n",
              "\n",
              "       [[6],\n",
              "        [8]]])"
            ]
          },
          "metadata": {},
          "execution_count": 44
        }
      ]
    },
    {
      "cell_type": "markdown",
      "source": [
        "Los arrays de NumPy solo pueden contener un tipo de dato, ya que esto es lo que le confiere las ventajas de la optimización de memoria.\n",
        "\n",
        "Podemos conocer el tipo de datos del array consultando la propiedad .dtype"
      ],
      "metadata": {
        "id": "5Pa4AXG-4tn2"
      }
    },
    {
      "cell_type": "code",
      "source": [
        "arr = np.array([1, 2, 3, 4])\n",
        "arr.dtype"
      ],
      "metadata": {
        "colab": {
          "base_uri": "https://localhost:8080/"
        },
        "id": "6y8X8-7a4zX0",
        "outputId": "138ffc88-d658-4eec-fd2e-fa76fd308a4e"
      },
      "execution_count": null,
      "outputs": [
        {
          "output_type": "execute_result",
          "data": {
            "text/plain": [
              "dtype('int64')"
            ]
          },
          "metadata": {},
          "execution_count": 45
        }
      ]
    },
    {
      "cell_type": "markdown",
      "source": [
        "Ahora vemos que los valores están con punto decimal."
      ],
      "metadata": {
        "id": "YWKTfIkg45o2"
      }
    },
    {
      "cell_type": "code",
      "source": [
        "arr"
      ],
      "metadata": {
        "colab": {
          "base_uri": "https://localhost:8080/"
        },
        "id": "Mdj4_7RU4_zF",
        "outputId": "c99320eb-a913-4ab1-db54-1a859eafeb84"
      },
      "execution_count": null,
      "outputs": [
        {
          "output_type": "execute_result",
          "data": {
            "text/plain": [
              "array([1, 2, 3, 4])"
            ]
          },
          "metadata": {},
          "execution_count": 46
        }
      ]
    },
    {
      "cell_type": "markdown",
      "source": [
        "Si ya se tiene el array definido, se utiliza el método **.astype()** para convertir el tipo de dato."
      ],
      "metadata": {
        "id": "O0b2xWVq5E9l"
      }
    },
    {
      "cell_type": "code",
      "source": [
        "arr = np.array([1, 2, 3, 4])\n",
        "arr = arr.astype(np.float64)\n",
        "arr"
      ],
      "metadata": {
        "colab": {
          "base_uri": "https://localhost:8080/"
        },
        "id": "fNDqte6F5KrO",
        "outputId": "ee735b8f-240d-4532-e7a0-62311099bff5"
      },
      "execution_count": null,
      "outputs": [
        {
          "output_type": "execute_result",
          "data": {
            "text/plain": [
              "array([1., 2., 3., 4.])"
            ]
          },
          "metadata": {},
          "execution_count": 47
        }
      ]
    },
    {
      "cell_type": "markdown",
      "source": [
        "También se puede cambiar a tipo booleano recordando que los números diferentes de 0 se convierten en True."
      ],
      "metadata": {
        "id": "sdqNi-hI5NUW"
      }
    },
    {
      "cell_type": "code",
      "source": [
        "arr = np.array([0, 1, 2, 3, 4])\n",
        "arr = arr.astype(np.bool_)\n",
        "arr"
      ],
      "metadata": {
        "colab": {
          "base_uri": "https://localhost:8080/"
        },
        "id": "37ZgXnX25Qg2",
        "outputId": "ec4e32dc-3bc1-44f2-f1d5-bd79ecfb67a3"
      },
      "execution_count": null,
      "outputs": [
        {
          "output_type": "execute_result",
          "data": {
            "text/plain": [
              "array([False,  True,  True,  True,  True])"
            ]
          },
          "metadata": {},
          "execution_count": 48
        }
      ]
    },
    {
      "cell_type": "markdown",
      "source": [
        "También podemos convertir los datos en tipo **string.**"
      ],
      "metadata": {
        "id": "GAWG2ppi5WRP"
      }
    },
    {
      "cell_type": "code",
      "source": [
        "arr = np.array([0, 1, 2, 3, 4])\n",
        "arr = arr.astype(np.string_)\n",
        "arr"
      ],
      "metadata": {
        "colab": {
          "base_uri": "https://localhost:8080/"
        },
        "id": "Xcp2j8LK5Zuz",
        "outputId": "eb38f82b-ce1f-4809-88b8-ff5dc9079c1c"
      },
      "execution_count": null,
      "outputs": [
        {
          "output_type": "execute_result",
          "data": {
            "text/plain": [
              "array([b'0', b'1', b'2', b'3', b'4'], dtype='|S21')"
            ]
          },
          "metadata": {},
          "execution_count": 49
        }
      ]
    },
    {
      "cell_type": "markdown",
      "source": [
        "De igual manera, se puede pasar de string a número."
      ],
      "metadata": {
        "id": "xYbrnHYg5rws"
      }
    },
    {
      "cell_type": "code",
      "source": [
        "arr = np.array(['0', '1', '2', '3', '4'])\n",
        "arr = arr.astype(np.int8)\n",
        "arr"
      ],
      "metadata": {
        "colab": {
          "base_uri": "https://localhost:8080/"
        },
        "id": "Nrvp11835twb",
        "outputId": "02056ae6-0b58-42cf-d846-d8a450aca7f5"
      },
      "execution_count": null,
      "outputs": [
        {
          "output_type": "execute_result",
          "data": {
            "text/plain": [
              "array([0, 1, 2, 3, 4], dtype=int8)"
            ]
          },
          "metadata": {},
          "execution_count": 50
        }
      ]
    },
    {
      "cell_type": "markdown",
      "source": [
        "Si un elemento **no es de tipo número**, el método** falla**"
      ],
      "metadata": {
        "id": "h107FJZ_5xvj"
      }
    },
    {
      "cell_type": "code",
      "source": [
        "arr = np.array(['hola','0', '1', '2', '3', '4'])\n",
        "arr = arr.astype(np.int8)\n",
        "arr"
      ],
      "metadata": {
        "colab": {
          "base_uri": "https://localhost:8080/",
          "height": 200
        },
        "id": "ZYO80-bv54cA",
        "outputId": "9ab84a06-8cce-435e-ad8f-e41a6cc8a8e1"
      },
      "execution_count": null,
      "outputs": [
        {
          "output_type": "error",
          "ename": "ValueError",
          "evalue": "ignored",
          "traceback": [
            "\u001b[0;31m---------------------------------------------------------------------------\u001b[0m",
            "\u001b[0;31mValueError\u001b[0m                                Traceback (most recent call last)",
            "\u001b[0;32m<ipython-input-53-dcfd63ea9480>\u001b[0m in \u001b[0;36m<module>\u001b[0;34m\u001b[0m\n\u001b[1;32m      1\u001b[0m \u001b[0marr\u001b[0m \u001b[0;34m=\u001b[0m \u001b[0mnp\u001b[0m\u001b[0;34m.\u001b[0m\u001b[0marray\u001b[0m\u001b[0;34m(\u001b[0m\u001b[0;34m[\u001b[0m\u001b[0;34m'hola'\u001b[0m\u001b[0;34m,\u001b[0m\u001b[0;34m'0'\u001b[0m\u001b[0;34m,\u001b[0m \u001b[0;34m'1'\u001b[0m\u001b[0;34m,\u001b[0m \u001b[0;34m'2'\u001b[0m\u001b[0;34m,\u001b[0m \u001b[0;34m'3'\u001b[0m\u001b[0;34m,\u001b[0m \u001b[0;34m'4'\u001b[0m\u001b[0;34m]\u001b[0m\u001b[0;34m)\u001b[0m\u001b[0;34m\u001b[0m\u001b[0;34m\u001b[0m\u001b[0m\n\u001b[0;32m----> 2\u001b[0;31m \u001b[0marr\u001b[0m \u001b[0;34m=\u001b[0m \u001b[0marr\u001b[0m\u001b[0;34m.\u001b[0m\u001b[0mastype\u001b[0m\u001b[0;34m(\u001b[0m\u001b[0mnp\u001b[0m\u001b[0;34m.\u001b[0m\u001b[0mint8\u001b[0m\u001b[0;34m)\u001b[0m\u001b[0;34m\u001b[0m\u001b[0;34m\u001b[0m\u001b[0m\n\u001b[0m\u001b[1;32m      3\u001b[0m \u001b[0marr\u001b[0m\u001b[0;34m\u001b[0m\u001b[0;34m\u001b[0m\u001b[0m\n",
            "\u001b[0;31mValueError\u001b[0m: invalid literal for int() with base 10: 'hola'"
          ]
        }
      ]
    },
    {
      "cell_type": "markdown",
      "source": [
        "**Dimensiones**"
      ],
      "metadata": {
        "id": "p5y4rLWmC851"
      }
    },
    {
      "cell_type": "markdown",
      "source": [
        "scalar: dim = 0 Un solo dato o valor\n",
        "\n",
        "vector: dim = 1 Listas de Python\n",
        "\n",
        "matriz: dim = 2 Hoja de cálculo\n",
        "\n",
        "tensor: dim > 3 Series de tiempo o Imágenes\n",
        "\n",
        "Declarando un escalar."
      ],
      "metadata": {
        "id": "vlRRUg4GDEdz"
      }
    },
    {
      "cell_type": "code",
      "source": [
        "scalar = np.array(42)\n",
        "print(scalar) \n",
        "scalar.ndim "
      ],
      "metadata": {
        "colab": {
          "base_uri": "https://localhost:8080/"
        },
        "id": "yz6-7ucuDKOs",
        "outputId": "b032bf68-66d7-43f7-8c52-685179d8e6ca"
      },
      "execution_count": null,
      "outputs": [
        {
          "output_type": "stream",
          "name": "stdout",
          "text": [
            "42\n"
          ]
        },
        {
          "output_type": "execute_result",
          "data": {
            "text/plain": [
              "0"
            ]
          },
          "metadata": {},
          "execution_count": 56
        }
      ]
    },
    {
      "cell_type": "markdown",
      "source": [
        "Declarando un vector."
      ],
      "metadata": {
        "id": "LcR1ii-cDZpr"
      }
    },
    {
      "cell_type": "code",
      "source": [
        "vector = np.array([1, 2, 3])\n",
        "print(vector)\n",
        "vector.ndim "
      ],
      "metadata": {
        "colab": {
          "base_uri": "https://localhost:8080/"
        },
        "id": "kQPj-szgDcOq",
        "outputId": "a92d4415-3e64-4e02-9c95-536c03a9d0b4"
      },
      "execution_count": null,
      "outputs": [
        {
          "output_type": "stream",
          "name": "stdout",
          "text": [
            "[1 2 3]\n"
          ]
        },
        {
          "output_type": "execute_result",
          "data": {
            "text/plain": [
              "1"
            ]
          },
          "metadata": {},
          "execution_count": 57
        }
      ]
    },
    {
      "cell_type": "markdown",
      "source": [
        "Declarando una matriz."
      ],
      "metadata": {
        "id": "UGoePxHBDmBo"
      }
    },
    {
      "cell_type": "code",
      "source": [
        "matriz = np.array([[1, 2, 3], [4, 5, 6]])\n",
        "print(matriz)\n",
        "matriz.ndim"
      ],
      "metadata": {
        "colab": {
          "base_uri": "https://localhost:8080/"
        },
        "id": "KkSM-azlDnTn",
        "outputId": "51924ed2-35b0-421d-b346-879dcb685b89"
      },
      "execution_count": null,
      "outputs": [
        {
          "output_type": "stream",
          "name": "stdout",
          "text": [
            "[[1 2 3]\n",
            " [4 5 6]]\n"
          ]
        },
        {
          "output_type": "execute_result",
          "data": {
            "text/plain": [
              "2"
            ]
          },
          "metadata": {},
          "execution_count": 58
        }
      ]
    },
    {
      "cell_type": "markdown",
      "source": [
        "Declarando un tensor."
      ],
      "metadata": {
        "id": "nyjVKcNgDvp5"
      }
    },
    {
      "cell_type": "code",
      "source": [
        "tensor = np.array([[[1, 2, 3], [4, 5, 6], [7, 8, 9], [10, 11, 12]],[[13, 13, 15], [16, 17, 18], [19, 20, 21], [22, 23, 24]]])\n",
        "print(tensor)\n",
        "tensor.ndim"
      ],
      "metadata": {
        "colab": {
          "base_uri": "https://localhost:8080/"
        },
        "id": "CbdFbDp2D0DF",
        "outputId": "7e4c38bd-7108-49ec-f419-cc04a2e1c0cc"
      },
      "execution_count": null,
      "outputs": [
        {
          "output_type": "stream",
          "name": "stdout",
          "text": [
            "[[[ 1  2  3]\n",
            "  [ 4  5  6]\n",
            "  [ 7  8  9]\n",
            "  [10 11 12]]\n",
            "\n",
            " [[13 13 15]\n",
            "  [16 17 18]\n",
            "  [19 20 21]\n",
            "  [22 23 24]]]\n"
          ]
        },
        {
          "output_type": "execute_result",
          "data": {
            "text/plain": [
              "3"
            ]
          },
          "metadata": {},
          "execution_count": 59
        }
      ]
    },
    {
      "cell_type": "markdown",
      "source": [
        "**Agregar o eliminar dimensiones**\n",
        "\n",
        "Se puede definir el número de dimensiones desde la declaración del array"
      ],
      "metadata": {
        "id": "DzUVb0UmLH8B"
      }
    },
    {
      "cell_type": "code",
      "source": [
        "vector = np.array([1, 2, 3], ndmin = 10)\n",
        "print(vector) "
      ],
      "metadata": {
        "colab": {
          "base_uri": "https://localhost:8080/"
        },
        "id": "HOiWBq_hLQvB",
        "outputId": "1f73d41c-70ab-4cf4-f813-99dc86dcfb5e"
      },
      "execution_count": null,
      "outputs": [
        {
          "output_type": "stream",
          "name": "stdout",
          "text": [
            "[[[[[[[[[[1 2 3]]]]]]]]]]\n"
          ]
        }
      ]
    },
    {
      "cell_type": "code",
      "source": [
        "vector.ndim"
      ],
      "metadata": {
        "colab": {
          "base_uri": "https://localhost:8080/"
        },
        "id": "GwkB1nJ3LW66",
        "outputId": "ebf0cf21-54d5-4786-9cd0-e785081e8bca"
      },
      "execution_count": null,
      "outputs": [
        {
          "output_type": "execute_result",
          "data": {
            "text/plain": [
              "10"
            ]
          },
          "metadata": {},
          "execution_count": 61
        }
      ]
    },
    {
      "cell_type": "markdown",
      "source": [
        "Se pueden expandir dimensiones a los array ya existentes.\n",
        "\n",
        "Axis = 0 hace refencia a las filas, mientras que axis = 1 a las columnas."
      ],
      "metadata": {
        "id": "z8H9QLfNLapr"
      }
    },
    {
      "cell_type": "code",
      "source": [
        "expand = np.expand_dims(np.array([1, 2, 3]), axis = 0)\n",
        "print(expand) \n",
        "expand.ndim "
      ],
      "metadata": {
        "colab": {
          "base_uri": "https://localhost:8080/"
        },
        "id": "_cWqudw0LfC7",
        "outputId": "9c116c81-8aca-458b-9a3c-8696171b81d4"
      },
      "execution_count": null,
      "outputs": [
        {
          "output_type": "stream",
          "name": "stdout",
          "text": [
            "[[1 2 3]]\n"
          ]
        },
        {
          "output_type": "execute_result",
          "data": {
            "text/plain": [
              "2"
            ]
          },
          "metadata": {},
          "execution_count": 62
        }
      ]
    },
    {
      "cell_type": "markdown",
      "source": [
        "Remover/comprimir las dimensiones que no están siendo usadas."
      ],
      "metadata": {
        "id": "Atxitum2LmtT"
      }
    },
    {
      "cell_type": "code",
      "source": [
        "print(vector, vector.ndim)"
      ],
      "metadata": {
        "colab": {
          "base_uri": "https://localhost:8080/"
        },
        "id": "yJsFh7qPLpt6",
        "outputId": "b2fa3083-72fe-4a2c-fa6d-c2b98dda1e10"
      },
      "execution_count": null,
      "outputs": [
        {
          "output_type": "stream",
          "name": "stdout",
          "text": [
            "[[[[[[[[[[1 2 3]]]]]]]]]] 10\n"
          ]
        }
      ]
    },
    {
      "cell_type": "code",
      "source": [
        "vector_2 = np.squeeze(vector)\n",
        "print(vector_2, vector_2.ndim)"
      ],
      "metadata": {
        "colab": {
          "base_uri": "https://localhost:8080/"
        },
        "id": "6301yq_NLwKl",
        "outputId": "3bdcbd0f-af83-4053-eac9-0741aed6223a"
      },
      "execution_count": null,
      "outputs": [
        {
          "output_type": "stream",
          "name": "stdout",
          "text": [
            "[1 2 3] 1\n"
          ]
        }
      ]
    },
    {
      "cell_type": "markdown",
      "source": [
        "**Reto**\n",
        "\n",
        "Definir un tensor de 5 dimensiones\n",
        "\n",
        "Sumar una dimensión en algún eje\n",
        "\n",
        "Borrar dimensiones que no se usen"
      ],
      "metadata": {
        "id": "uLrPXvRWL55g"
      }
    },
    {
      "cell_type": "code",
      "source": [
        "tensor5 = np.array([[[[1, 2],[3, 4]], [[5, 6],[7, 8]]], [[[1, 2],[3, 4]], [[5, 6],[7, 8]]]], ndmin = 5)\n",
        "print(tensor5, tensor5.ndim)"
      ],
      "metadata": {
        "colab": {
          "base_uri": "https://localhost:8080/"
        },
        "id": "Y9OMBu55MC2i",
        "outputId": "63db12e0-0985-466f-d317-6da2e11846a9"
      },
      "execution_count": null,
      "outputs": [
        {
          "output_type": "stream",
          "name": "stdout",
          "text": [
            "[[[[[1 2]\n",
            "    [3 4]]\n",
            "\n",
            "   [[5 6]\n",
            "    [7 8]]]\n",
            "\n",
            "\n",
            "  [[[1 2]\n",
            "    [3 4]]\n",
            "\n",
            "   [[5 6]\n",
            "    [7 8]]]]] 5\n"
          ]
        }
      ]
    },
    {
      "cell_type": "code",
      "source": [
        "expand5 = np.expand_dims(tensor5, axis=1)\n",
        "print(expand5, expand5.ndim)"
      ],
      "metadata": {
        "colab": {
          "base_uri": "https://localhost:8080/"
        },
        "id": "cfzACzT2MQTi",
        "outputId": "c70a2cd5-b211-4c69-ae3e-598291604e27"
      },
      "execution_count": null,
      "outputs": [
        {
          "output_type": "stream",
          "name": "stdout",
          "text": [
            "[[[[[[1 2]\n",
            "     [3 4]]\n",
            "\n",
            "    [[5 6]\n",
            "     [7 8]]]\n",
            "\n",
            "\n",
            "   [[[1 2]\n",
            "     [3 4]]\n",
            "\n",
            "    [[5 6]\n",
            "     [7 8]]]]]] 6\n"
          ]
        }
      ]
    },
    {
      "cell_type": "code",
      "source": [
        "import pandas as pd \n",
        "import numpy as np"
      ],
      "metadata": {
        "id": "JtpxU9KRMbJZ"
      },
      "execution_count": 16,
      "outputs": []
    },
    {
      "cell_type": "markdown",
      "source": [],
      "metadata": {
        "id": "lPbcsItWMaeO"
      }
    },
    {
      "cell_type": "markdown",
      "source": [
        "# Creando arrays"
      ],
      "metadata": {
        "id": "R9tgCNQMymAI"
      }
    },
    {
      "cell_type": "code",
      "source": [
        "import numpy as np"
      ],
      "metadata": {
        "id": "ZeYBWJ1cynzN"
      },
      "execution_count": 20,
      "outputs": []
    },
    {
      "cell_type": "markdown",
      "source": [
        "Numpy nos da varios métodos muy eficientes para poder crear arrays desde 0.\n",
        "\n",
        "Este método de NumPy nos permite generar arrays sin definir previamente una lista."
      ],
      "metadata": {
        "id": "1pmWX-6ayq07"
      }
    },
    {
      "cell_type": "code",
      "source": [
        "np.arange(0,10)"
      ],
      "metadata": {
        "colab": {
          "base_uri": "https://localhost:8080/"
        },
        "id": "_vk2ju5kysQA",
        "outputId": "b8d5a369-3dce-47ec-b9c1-de8e88bf1c6c"
      },
      "execution_count": 18,
      "outputs": [
        {
          "output_type": "execute_result",
          "data": {
            "text/plain": [
              "array([0, 1, 2, 3, 4, 5, 6, 7, 8, 9])"
            ]
          },
          "metadata": {},
          "execution_count": 18
        }
      ]
    },
    {
      "cell_type": "markdown",
      "source": [
        "\n",
        "\n",
        "Un tercer argumento permite definir un tamaño de paso."
      ],
      "metadata": {
        "id": "rzb4NTRMy7A1"
      }
    },
    {
      "cell_type": "code",
      "source": [],
      "metadata": {
        "id": "bLI7VanCylpW"
      },
      "execution_count": null,
      "outputs": []
    },
    {
      "cell_type": "code",
      "source": [
        "np.arange(0,20,2)\n"
      ],
      "metadata": {
        "colab": {
          "base_uri": "https://localhost:8080/"
        },
        "id": "j3HnHlbszAaW",
        "outputId": "d299eaa2-b0ee-4d63-9c19-56c8dbd8b19e"
      },
      "execution_count": 21,
      "outputs": [
        {
          "output_type": "execute_result",
          "data": {
            "text/plain": [
              "array([ 0,  2,  4,  6,  8, 10, 12, 14, 16, 18])"
            ]
          },
          "metadata": {},
          "execution_count": 21
        }
      ]
    },
    {
      "cell_type": "markdown",
      "source": [
        "**np.zeros()** Nos permite definir estructuras o esquemas."
      ],
      "metadata": {
        "id": "vfidglBK1vUS"
      }
    },
    {
      "cell_type": "code",
      "source": [
        "np.zeros(3)"
      ],
      "metadata": {
        "colab": {
          "base_uri": "https://localhost:8080/"
        },
        "id": "hR2I4BD21x7_",
        "outputId": "755df509-2008-4176-9f89-e66d38429fe5"
      },
      "execution_count": 22,
      "outputs": [
        {
          "output_type": "execute_result",
          "data": {
            "text/plain": [
              "array([0., 0., 0.])"
            ]
          },
          "metadata": {},
          "execution_count": 22
        }
      ]
    },
    {
      "cell_type": "code",
      "source": [
        "np.zeros((10,5))"
      ],
      "metadata": {
        "colab": {
          "base_uri": "https://localhost:8080/"
        },
        "id": "JXEGIzxR13tF",
        "outputId": "85259a80-3811-4141-99b0-f6c55fa7ca0f"
      },
      "execution_count": 23,
      "outputs": [
        {
          "output_type": "execute_result",
          "data": {
            "text/plain": [
              "array([[0., 0., 0., 0., 0.],\n",
              "       [0., 0., 0., 0., 0.],\n",
              "       [0., 0., 0., 0., 0.],\n",
              "       [0., 0., 0., 0., 0.],\n",
              "       [0., 0., 0., 0., 0.],\n",
              "       [0., 0., 0., 0., 0.],\n",
              "       [0., 0., 0., 0., 0.],\n",
              "       [0., 0., 0., 0., 0.],\n",
              "       [0., 0., 0., 0., 0.],\n",
              "       [0., 0., 0., 0., 0.]])"
            ]
          },
          "metadata": {},
          "execution_count": 23
        }
      ]
    },
    {
      "cell_type": "markdown",
      "source": [
        "De igual manera, tenemos **np.ones()**"
      ],
      "metadata": {
        "id": "s4PL_oj72Cee"
      }
    },
    {
      "cell_type": "code",
      "source": [
        "np.ones(3)\n"
      ],
      "metadata": {
        "colab": {
          "base_uri": "https://localhost:8080/"
        },
        "id": "yYc7fYHg2Myw",
        "outputId": "bbb2adc1-642c-4f3c-9c23-eae04a8eb3b8"
      },
      "execution_count": 26,
      "outputs": [
        {
          "output_type": "execute_result",
          "data": {
            "text/plain": [
              "array([1., 1., 1.])"
            ]
          },
          "metadata": {},
          "execution_count": 26
        }
      ]
    },
    {
      "cell_type": "code",
      "source": [
        "np.ones(6)"
      ],
      "metadata": {
        "colab": {
          "base_uri": "https://localhost:8080/"
        },
        "id": "k1OQASZG2X6O",
        "outputId": "4107a2fd-d93d-450b-e650-016d33937d7e"
      },
      "execution_count": 27,
      "outputs": [
        {
          "output_type": "execute_result",
          "data": {
            "text/plain": [
              "array([1., 1., 1., 1., 1., 1.])"
            ]
          },
          "metadata": {},
          "execution_count": 27
        }
      ]
    },
    {
      "cell_type": "markdown",
      "source": [
        "**np.linspace()** \n",
        "Permite generar una array definiendo un inicio, un final y cuantas divisiones tendrá."
      ],
      "metadata": {
        "id": "yZVEVFYm2cdZ"
      }
    },
    {
      "cell_type": "code",
      "source": [
        "np.linspace(0, 10 , 10)"
      ],
      "metadata": {
        "colab": {
          "base_uri": "https://localhost:8080/"
        },
        "id": "nH0Nswq02fgQ",
        "outputId": "ad2acf60-3258-411b-fa09-5891cbf1e1ea"
      },
      "execution_count": 28,
      "outputs": [
        {
          "output_type": "execute_result",
          "data": {
            "text/plain": [
              "array([ 0.        ,  1.11111111,  2.22222222,  3.33333333,  4.44444444,\n",
              "        5.55555556,  6.66666667,  7.77777778,  8.88888889, 10.        ])"
            ]
          },
          "metadata": {},
          "execution_count": 28
        }
      ]
    },
    {
      "cell_type": "markdown",
      "source": [
        "También podemos crear una matriz con una diagonal de 1 y el resto de 9."
      ],
      "metadata": {
        "id": "389qKrIN2o9v"
      }
    },
    {
      "cell_type": "code",
      "source": [
        "np.eye(4)\n"
      ],
      "metadata": {
        "colab": {
          "base_uri": "https://localhost:8080/"
        },
        "id": "KrCChl042rKA",
        "outputId": "26c02d96-cdcb-4363-b639-66ee38771564"
      },
      "execution_count": 29,
      "outputs": [
        {
          "output_type": "execute_result",
          "data": {
            "text/plain": [
              "array([[1., 0., 0., 0.],\n",
              "       [0., 1., 0., 0.],\n",
              "       [0., 0., 1., 0.],\n",
              "       [0., 0., 0., 1.]])"
            ]
          },
          "metadata": {},
          "execution_count": 29
        }
      ]
    },
    {
      "cell_type": "markdown",
      "source": [
        "Otro método importante es generar números aleatorios."
      ],
      "metadata": {
        "id": "bAxuEwlf21_R"
      }
    },
    {
      "cell_type": "code",
      "source": [
        "np.random.rand()"
      ],
      "metadata": {
        "colab": {
          "base_uri": "https://localhost:8080/"
        },
        "id": "u0cS0qxG23Qu",
        "outputId": "3a3edafe-a642-4370-9e78-a2f4190d26f1"
      },
      "execution_count": 30,
      "outputs": [
        {
          "output_type": "execute_result",
          "data": {
            "text/plain": [
              "0.4784172931156526"
            ]
          },
          "metadata": {},
          "execution_count": 30
        }
      ]
    },
    {
      "cell_type": "markdown",
      "source": [
        "También se pueden generar vectores."
      ],
      "metadata": {
        "id": "fANuXXxZ2-Gf"
      }
    },
    {
      "cell_type": "code",
      "source": [
        "np.random.rand(4)"
      ],
      "metadata": {
        "colab": {
          "base_uri": "https://localhost:8080/"
        },
        "id": "2RcYNuk82-8e",
        "outputId": "6f892915-3354-47e1-9e4d-921f6229ec5b"
      },
      "execution_count": 31,
      "outputs": [
        {
          "output_type": "execute_result",
          "data": {
            "text/plain": [
              "array([3.48879445e-01, 8.63899526e-04, 9.02227252e-01, 3.34752874e-01])"
            ]
          },
          "metadata": {},
          "execution_count": 31
        }
      ]
    },
    {
      "cell_type": "markdown",
      "source": [
        "Y a su vez generar matrices."
      ],
      "metadata": {
        "id": "b1VVxsnV3DNo"
      }
    },
    {
      "cell_type": "code",
      "source": [
        "np.random.rand(4,4)"
      ],
      "metadata": {
        "colab": {
          "base_uri": "https://localhost:8080/"
        },
        "id": "T_vjAqxQ3E9F",
        "outputId": "6161d470-6a3a-4e83-f826-7ed6526b9383"
      },
      "execution_count": 32,
      "outputs": [
        {
          "output_type": "execute_result",
          "data": {
            "text/plain": [
              "array([[0.32274312, 0.41038136, 0.76660458, 0.47763909],\n",
              "       [0.98634358, 0.92929017, 0.98640785, 0.55242588],\n",
              "       [0.90985033, 0.24180353, 0.78990099, 0.50924192],\n",
              "       [0.61815887, 0.69792043, 0.81378397, 0.83764379]])"
            ]
          },
          "metadata": {},
          "execution_count": 32
        }
      ]
    },
    {
      "cell_type": "markdown",
      "source": [
        "NumPy nos permite también generar números enteros.\n",
        "En este caso números enteros entre el 1 y 14"
      ],
      "metadata": {
        "id": "nrpx6a4e3Jks"
      }
    },
    {
      "cell_type": "code",
      "source": [
        "np.random.randint(1,15)"
      ],
      "metadata": {
        "colab": {
          "base_uri": "https://localhost:8080/"
        },
        "id": "NtX519Lc3MOf",
        "outputId": "f2fab439-f45c-481d-9fdf-3937f32ec199"
      },
      "execution_count": 33,
      "outputs": [
        {
          "output_type": "execute_result",
          "data": {
            "text/plain": [
              "10"
            ]
          },
          "metadata": {},
          "execution_count": 33
        }
      ]
    },
    {
      "cell_type": "code",
      "source": [
        "np.random.randint(1,12)"
      ],
      "metadata": {
        "colab": {
          "base_uri": "https://localhost:8080/"
        },
        "id": "gKSHut9W3SKt",
        "outputId": "892d4b1c-0d71-47f8-a9fc-c4f98e5ff7d5"
      },
      "execution_count": 34,
      "outputs": [
        {
          "output_type": "execute_result",
          "data": {
            "text/plain": [
              "1"
            ]
          },
          "metadata": {},
          "execution_count": 34
        }
      ]
    },
    {
      "cell_type": "markdown",
      "source": [
        "También podemos llevarlos a una estructura definida."
      ],
      "metadata": {
        "id": "cAVwclkO3XqG"
      }
    },
    {
      "cell_type": "code",
      "source": [
        "np.random.randint(1,15, (3,3))"
      ],
      "metadata": {
        "colab": {
          "base_uri": "https://localhost:8080/"
        },
        "id": "va7KyZdO3Zjd",
        "outputId": "5e4764c0-745e-431d-9ed7-dfe3e0f6396a"
      },
      "execution_count": 35,
      "outputs": [
        {
          "output_type": "execute_result",
          "data": {
            "text/plain": [
              "array([[ 5,  7, 11],\n",
              "       [13,  6, 11],\n",
              "       [ 8,  5,  3]])"
            ]
          },
          "metadata": {},
          "execution_count": 35
        }
      ]
    },
    {
      "cell_type": "markdown",
      "source": [
        "Existen diferentes operaciones que se pueden usar para los arrays de NumPy."
      ],
      "metadata": {
        "id": "OKi9Ig4755vT"
      }
    },
    {
      "cell_type": "code",
      "source": [
        "lista =[1,2]\n",
        "lista"
      ],
      "metadata": {
        "colab": {
          "base_uri": "https://localhost:8080/"
        },
        "id": "ix_tq0gC5-du",
        "outputId": "1ec40dea-e8de-48db-d7e9-315d3d5a5251"
      },
      "execution_count": 37,
      "outputs": [
        {
          "output_type": "execute_result",
          "data": {
            "text/plain": [
              "[1, 2]"
            ]
          },
          "metadata": {},
          "execution_count": 37
        }
      ]
    },
    {
      "cell_type": "markdown",
      "source": [
        "Una lista de Python entiende que quieres duplicar los datos. No es lo que buscamos."
      ],
      "metadata": {
        "id": "otz8lpvm6HlJ"
      }
    },
    {
      "cell_type": "code",
      "source": [
        "lista * 2\n"
      ],
      "metadata": {
        "colab": {
          "base_uri": "https://localhost:8080/"
        },
        "id": "sSsyWfcJ6KUO",
        "outputId": "f821697f-90fd-47ec-9428-0f2318690028"
      },
      "execution_count": 38,
      "outputs": [
        {
          "output_type": "execute_result",
          "data": {
            "text/plain": [
              "[1, 2, 1, 2]"
            ]
          },
          "metadata": {},
          "execution_count": 38
        }
      ]
    },
    {
      "cell_type": "markdown",
      "source": [
        "Pero Numpy lo entiende mucho mejor"
      ],
      "metadata": {
        "id": "NZyq6tw-6ZjG"
      }
    },
    {
      "cell_type": "code",
      "source": [
        "arr =np.arange(0,10)\n",
        "arr2 =arr.copy()\n",
        "arr"
      ],
      "metadata": {
        "colab": {
          "base_uri": "https://localhost:8080/"
        },
        "id": "9d6qKKhL6cgD",
        "outputId": "b9f28f72-4cf1-4e65-f630-965ab8900609"
      },
      "execution_count": 40,
      "outputs": [
        {
          "output_type": "execute_result",
          "data": {
            "text/plain": [
              "array([0, 1, 2, 3, 4, 5, 6, 7, 8, 9])"
            ]
          },
          "metadata": {},
          "execution_count": 40
        }
      ]
    },
    {
      "cell_type": "markdown",
      "source": [
        "Ahora multiplicamos por un vector:"
      ],
      "metadata": {
        "id": "DTr90f2x6vid"
      }
    },
    {
      "cell_type": "code",
      "source": [
        "arr * 2"
      ],
      "metadata": {
        "colab": {
          "base_uri": "https://localhost:8080/"
        },
        "id": "LzTFqMdb6xtc",
        "outputId": "93e4c33a-1ac6-4602-b59e-12b6efba2b5d"
      },
      "execution_count": 41,
      "outputs": [
        {
          "output_type": "execute_result",
          "data": {
            "text/plain": [
              "array([ 0,  2,  4,  6,  8, 10, 12, 14, 16, 18])"
            ]
          },
          "metadata": {},
          "execution_count": 41
        }
      ]
    },
    {
      "cell_type": "markdown",
      "source": [
        "División con un vector\n",
        "Como en este caso la primera posición del array es 0, muestra un error pero, no detiene el proceso."
      ],
      "metadata": {
        "id": "FuQbtyCx63o8"
      }
    },
    {
      "cell_type": "code",
      "source": [
        "1 / arr"
      ],
      "metadata": {
        "colab": {
          "base_uri": "https://localhost:8080/"
        },
        "id": "tz4SI75TFWVQ",
        "outputId": "1319e59b-8ed4-4393-e086-1f7a5fd3fdc2"
      },
      "execution_count": 42,
      "outputs": [
        {
          "output_type": "stream",
          "name": "stderr",
          "text": [
            "/usr/local/lib/python3.7/dist-packages/ipykernel_launcher.py:1: RuntimeWarning: divide by zero encountered in true_divide\n",
            "  \"\"\"Entry point for launching an IPython kernel.\n"
          ]
        },
        {
          "output_type": "execute_result",
          "data": {
            "text/plain": [
              "array([       inf, 1.        , 0.5       , 0.33333333, 0.25      ,\n",
              "       0.2       , 0.16666667, 0.14285714, 0.125     , 0.11111111])"
            ]
          },
          "metadata": {},
          "execution_count": 42
        }
      ]
    },
    {
      "cell_type": "markdown",
      "source": [
        "Elevar a un vector:"
      ],
      "metadata": {
        "id": "kTpzJsxuFa1K"
      }
    },
    {
      "cell_type": "code",
      "source": [
        "arr**2"
      ],
      "metadata": {
        "colab": {
          "base_uri": "https://localhost:8080/"
        },
        "id": "EFrqQXPMFhSX",
        "outputId": "b26c9ead-288d-40f0-a490-a2a97f8c9754"
      },
      "execution_count": 43,
      "outputs": [
        {
          "output_type": "execute_result",
          "data": {
            "text/plain": [
              "array([ 0,  1,  4,  9, 16, 25, 36, 49, 64, 81])"
            ]
          },
          "metadata": {},
          "execution_count": 43
        }
      ]
    },
    {
      "cell_type": "markdown",
      "source": [
        "Sumar dos arrays de igual dimensiones las hace elemento por elemento:"
      ],
      "metadata": {
        "id": "fmU1v0CJFkuJ"
      }
    },
    {
      "cell_type": "code",
      "source": [
        "arr + arr2"
      ],
      "metadata": {
        "colab": {
          "base_uri": "https://localhost:8080/"
        },
        "id": "tixRE_RKFmoP",
        "outputId": "c449c2a2-040b-4da0-f836-75b587299949"
      },
      "execution_count": 44,
      "outputs": [
        {
          "output_type": "execute_result",
          "data": {
            "text/plain": [
              "array([ 0,  2,  4,  6,  8, 10, 12, 14, 16, 18])"
            ]
          },
          "metadata": {},
          "execution_count": 44
        }
      ]
    },
    {
      "cell_type": "markdown",
      "source": [
        "Lo mismo aplica para matrices."
      ],
      "metadata": {
        "id": "9H6SpCKQF7Bn"
      }
    },
    {
      "cell_type": "code",
      "source": [
        "matriz = arr.reshape(2,5)\n",
        "matriz2 = matriz.copy()\n",
        "matriz"
      ],
      "metadata": {
        "colab": {
          "base_uri": "https://localhost:8080/"
        },
        "id": "2QjgCG1WF8GP",
        "outputId": "cac9cbd0-b9b2-4468-831d-c090cb7a5211"
      },
      "execution_count": 46,
      "outputs": [
        {
          "output_type": "execute_result",
          "data": {
            "text/plain": [
              "array([[0, 1, 2, 3, 4],\n",
              "       [5, 6, 7, 8, 9]])"
            ]
          },
          "metadata": {},
          "execution_count": 46
        }
      ]
    },
    {
      "cell_type": "code",
      "source": [
        "matriz = arr.reshape(2,5)\n",
        "matriz2 = matriz.copy()\n",
        "matriz-matriz"
      ],
      "metadata": {
        "colab": {
          "base_uri": "https://localhost:8080/"
        },
        "id": "Q016P4uvF_14",
        "outputId": "40f1c31b-52c8-4895-dade-7c126bc367cf"
      },
      "execution_count": 47,
      "outputs": [
        {
          "output_type": "execute_result",
          "data": {
            "text/plain": [
              "array([[0, 0, 0, 0, 0],\n",
              "       [0, 0, 0, 0, 0]])"
            ]
          },
          "metadata": {},
          "execution_count": 47
        }
      ]
    },
    {
      "cell_type": "markdown",
      "source": [
        "Una operación importante es la de punto por punto, aquí dos formas de hacerla:"
      ],
      "metadata": {
        "id": "aCI6rjngGTbI"
      }
    },
    {
      "cell_type": "code",
      "source": [
        "np.matmul(matriz, matriz2.T)"
      ],
      "metadata": {
        "colab": {
          "base_uri": "https://localhost:8080/"
        },
        "id": "KXBGgTzcGU73",
        "outputId": "41382402-4ff0-48df-f1ac-99ff05cc2627"
      },
      "execution_count": 48,
      "outputs": [
        {
          "output_type": "execute_result",
          "data": {
            "text/plain": [
              "array([[ 30,  80],\n",
              "       [ 80, 255]])"
            ]
          },
          "metadata": {},
          "execution_count": 48
        }
      ]
    },
    {
      "cell_type": "code",
      "source": [
        "matriz @ matriz2.T"
      ],
      "metadata": {
        "colab": {
          "base_uri": "https://localhost:8080/"
        },
        "id": "cNTqTemOGapt",
        "outputId": "1ff95dfc-5ce7-4895-be7c-6ca47c289f48"
      },
      "execution_count": 49,
      "outputs": [
        {
          "output_type": "execute_result",
          "data": {
            "text/plain": [
              "array([[ 30,  80],\n",
              "       [ 80, 255]])"
            ]
          },
          "metadata": {},
          "execution_count": 49
        }
      ]
    },
    {
      "cell_type": "markdown",
      "source": [
        "**Pandas**\n",
        "\n",
        "Pandas es una librería de Python especializada en el manejo y análisis de estructuras de datos. El nombre viene de “Panel data”.\n",
        "\n",
        "•Velocidad\n",
        "\n",
        "• Poco código\n",
        "\n",
        "• Múltiples formatos de archivos\n",
        "\n",
        "• Alineación inteligente\n",
        "\n",
        "\n",
        "\n",
        "\n",
        "\n",
        "**Pandas Series**\n",
        "\n",
        "Es muy parecido a un array de una dimensión (o vector) de NumPy.\n",
        "\n",
        "• Arreglo unidimensional indexado\n",
        "\n",
        "• Búsqueda por índice\n",
        "\n",
        "• Slicing\n",
        "\n",
        "• Operaciones aritméticas\n",
        "\n",
        "\n",
        "• Distintos tipos de datos\n",
        "\n",
        "\n",
        "**Pandas DataFrame**\n",
        "\n",
        "Muy parecido a las estructuras matriciales trabajadas con NumPy.\n",
        "\n",
        "• Estructura principal\n",
        "\n",
        "• Arreglo de dos dimensiones\n",
        "\n",
        "• Búsqueda por índice (columnas o filas)\n",
        "\n",
        "• Slicing\n",
        "\n",
        "• Operaciones aritméticas\n",
        "\n",
        "• Distintos tipos de datos\n",
        "\n",
        "• Tamaño variable\n",
        "\n",
        "\n",
        "**Series**\n",
        "\n",
        "Es un arreglo unidimensional indexado"
      ],
      "metadata": {
        "id": "TOxhM--6HJUZ"
      }
    },
    {
      "cell_type": "code",
      "source": [
        "import pandas as pd"
      ],
      "metadata": {
        "id": "-2-C_dEwHvui"
      },
      "execution_count": 50,
      "outputs": []
    }
  ]
}