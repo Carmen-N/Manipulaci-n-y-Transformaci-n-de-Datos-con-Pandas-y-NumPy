{
  "nbformat": 4,
  "nbformat_minor": 0,
  "metadata": {
    "colab": {
      "provenance": [],
      "authorship_tag": "ABX9TyMins6d+4+18T453ZZwSV1u",
      "include_colab_link": true
    },
    "kernelspec": {
      "name": "python3",
      "display_name": "Python 3"
    },
    "language_info": {
      "name": "python"
    }
  },
  "cells": [
    {
      "cell_type": "markdown",
      "metadata": {
        "id": "view-in-github",
        "colab_type": "text"
      },
      "source": [
        "<a href=\"https://colab.research.google.com/github/Carmen-N/proyectoDemoCursoPrework/blob/master/Datos_con_Pandas_y_NumPy.ipynb\" target=\"_parent\"><img src=\"https://colab.research.google.com/assets/colab-badge.svg\" alt=\"Open In Colab\"/></a>"
      ]
    },
    {
      "cell_type": "code",
      "execution_count": 16,
      "metadata": {
        "id": "2d1si98WTDD-"
      },
      "outputs": [],
      "source": [
        "import pandas as pd \n",
        "import numpy as np\n"
      ]
    },
    {
      "cell_type": "markdown",
      "source": [
        "El array es el principal objeto de la librería. \n",
        "\n",
        "Representa datos de manera estructurada y se puede acceder a ellos a través del indexado, a un dato específico o un grupo de muchos datos específicos"
      ],
      "metadata": {
        "id": "YVkCVlQ0TUV7"
      }
    },
    {
      "cell_type": "code",
      "source": [
        "lista = [1, 2 , 3, 4, 5, 6, 7, 8, 9] \n",
        "lista "
      ],
      "metadata": {
        "colab": {
          "base_uri": "https://localhost:8080/"
        },
        "id": "TSNhJLo3ThTB",
        "outputId": "c15d41fe-d517-464f-abeb-dffa94b92da9"
      },
      "execution_count": 2,
      "outputs": [
        {
          "output_type": "execute_result",
          "data": {
            "text/plain": [
              "[1, 2, 3, 4, 5, 6, 7, 8, 9]"
            ]
          },
          "metadata": {},
          "execution_count": 2
        }
      ]
    },
    {
      "cell_type": "markdown",
      "source": [
        "Volvemos nuestra lista, un array"
      ],
      "metadata": {
        "id": "ThRzLH7nUt6o"
      }
    },
    {
      "cell_type": "markdown",
      "source": [],
      "metadata": {
        "id": "zLsrzgrxUrs0"
      }
    },
    {
      "cell_type": "code",
      "source": [
        "arr = np.array(lista)\n",
        "arr\n"
      ],
      "metadata": {
        "colab": {
          "base_uri": "https://localhost:8080/"
        },
        "id": "PmaUeLagT584",
        "outputId": "fba5ab16-47cf-4eef-8fbd-5a3ef09ded60"
      },
      "execution_count": 18,
      "outputs": [
        {
          "output_type": "execute_result",
          "data": {
            "text/plain": [
              "array([1, 2, 3, 4, 5, 6, 7, 8, 9])"
            ]
          },
          "metadata": {},
          "execution_count": 18
        }
      ]
    },
    {
      "cell_type": "markdown",
      "source": [],
      "metadata": {
        "id": "Kfn1Ai2uU2KB"
      }
    },
    {
      "cell_type": "markdown",
      "source": [
        "Una matriz son varios Vectores o **listas** agrupadas una encima de la otra, es como una tabla de Excel"
      ],
      "metadata": {
        "id": "znhzQLSHU4yp"
      }
    },
    {
      "cell_type": "code",
      "source": [
        "matriz = [[1, 2, 3], [4, 5, 6], [7, 8, 9]]\n",
        "matriz = np.array(matriz)\n",
        "matriz\n"
      ],
      "metadata": {
        "colab": {
          "base_uri": "https://localhost:8080/"
        },
        "id": "8ZdbutKmU8ub",
        "outputId": "89dad935-4135-47ba-ea28-48ed056ba6e3"
      },
      "execution_count": 17,
      "outputs": [
        {
          "output_type": "execute_result",
          "data": {
            "text/plain": [
              "array([[1, 2, 3],\n",
              "       [4, 5, 6],\n",
              "       [7, 8, 9]])"
            ]
          },
          "metadata": {},
          "execution_count": 17
        }
      ]
    },
    {
      "cell_type": "markdown",
      "source": [
        "El indexado nos permite acceder a los elementos de los array y matrices\n",
        "\n",
        "Los elementos **se empiezan a contar desde 0.**"
      ],
      "metadata": {
        "id": "gC6Wk9ivVLRZ"
      }
    },
    {
      "cell_type": "code",
      "source": [
        "arr[0]"
      ],
      "metadata": {
        "colab": {
          "base_uri": "https://localhost:8080/"
        },
        "id": "Hu4wnx-kVWDo",
        "outputId": "4a599b4e-c2bf-41ca-a441-a08694f5847a"
      },
      "execution_count": 19,
      "outputs": [
        {
          "output_type": "execute_result",
          "data": {
            "text/plain": [
              "1"
            ]
          },
          "metadata": {},
          "execution_count": 19
        }
      ]
    },
    {
      "cell_type": "markdown",
      "source": [
        "Index\t0\t1\t2\t3\t4\t5\t6\t7\t8\n",
        "\n",
        "\n",
        "0\t1\t2\t3\t4\t5\t6\t7\t8\t9"
      ],
      "metadata": {
        "id": "-ZGmoOZZWiSW"
      }
    },
    {
      "cell_type": "markdown",
      "source": [
        "Es posible operar directamente con los elementos."
      ],
      "metadata": {
        "id": "72xlTZyjX9EA"
      }
    },
    {
      "cell_type": "code",
      "source": [
        "arr[0] + arr[5]"
      ],
      "metadata": {
        "colab": {
          "base_uri": "https://localhost:8080/"
        },
        "id": "wQdgMmO5YAzE",
        "outputId": "be2f52c1-a4cf-4f66-d25d-00831d1ef2e6"
      },
      "execution_count": 20,
      "outputs": [
        {
          "output_type": "execute_result",
          "data": {
            "text/plain": [
              "7"
            ]
          },
          "metadata": {},
          "execution_count": 20
        }
      ]
    },
    {
      "cell_type": "markdown",
      "source": [
        "0\t+\t5\n",
        "1\t\t6"
      ],
      "metadata": {
        "id": "V3tdQppbY5ys"
      }
    },
    {
      "cell_type": "markdown",
      "source": [],
      "metadata": {
        "id": "Hplr-eR8Y5oG"
      }
    },
    {
      "cell_type": "code",
      "source": [],
      "metadata": {
        "id": "BCJdXZ5VY8KR"
      },
      "execution_count": null,
      "outputs": []
    },
    {
      "cell_type": "markdown",
      "source": [
        "En el caso de las matrices, al indexar una posición se regresa el array de dicha posición."
      ],
      "metadata": {
        "id": "PV1PuTfVY_i5"
      }
    },
    {
      "cell_type": "code",
      "source": [
        "matriz[0]\n"
      ],
      "metadata": {
        "colab": {
          "base_uri": "https://localhost:8080/"
        },
        "id": "Q9US-_iyZFwQ",
        "outputId": "452fa4d7-71fc-4855-9884-9dbbd8353c4e"
      },
      "execution_count": 24,
      "outputs": [
        {
          "output_type": "execute_result",
          "data": {
            "text/plain": [
              "array([1, 2, 3])"
            ]
          },
          "metadata": {},
          "execution_count": 24
        }
      ]
    },
    {
      "cell_type": "markdown",
      "source": [
        "Para seleccionar un solo elemento de la matriz se especifica la posición del elemento separada por comas.\n",
        "\n",
        "Nota: El primer elemento selecciona las filas, el segundo elemento las columnas"
      ],
      "metadata": {
        "id": "P-t6XCPJZPJA"
      }
    },
    {
      "cell_type": "code",
      "source": [
        "matriz[0, 2]"
      ],
      "metadata": {
        "colab": {
          "base_uri": "https://localhost:8080/"
        },
        "id": "JMwaMws1Zb5S",
        "outputId": "535c3d52-8722-4e35-a51a-176ffd53f505"
      },
      "execution_count": 25,
      "outputs": [
        {
          "output_type": "execute_result",
          "data": {
            "text/plain": [
              "3"
            ]
          },
          "metadata": {},
          "execution_count": 25
        }
      ]
    },
    {
      "cell_type": "markdown",
      "source": [
        "# Slicing\n",
        "Nos permite extraer varios datos, tiene un comienzo y un final.\n",
        "En este ejemplo se está extrayendo datos desde la posición 1 hasta la 5"
      ],
      "metadata": {
        "id": "vOvsYstJZfrh"
      }
    },
    {
      "cell_type": "code",
      "source": [
        "Slicing\n",
        "Nos permite extraer varios datos, tiene un comienzo y un final.\n",
        "En este ejemplo se está extrayendo datos desde la posición 1 hasta la 5"
      ],
      "metadata": {
        "id": "tLtltuRNZlDA"
      },
      "execution_count": null,
      "outputs": []
    },
    {
      "cell_type": "code",
      "source": [
        "arr[1:6]"
      ],
      "metadata": {
        "colab": {
          "base_uri": "https://localhost:8080/"
        },
        "id": "Yyh4S950oH8r",
        "outputId": "113124ec-c4f6-4cb4-ae39-6beb98d69ccb"
      },
      "execution_count": 26,
      "outputs": [
        {
          "output_type": "execute_result",
          "data": {
            "text/plain": [
              "array([2, 3, 4, 5, 6])"
            ]
          },
          "metadata": {},
          "execution_count": 26
        }
      ]
    },
    {
      "cell_type": "markdown",
      "source": [
        "Si no se ingresa el valor de inicio, se toma el inicio como la posición 0."
      ],
      "metadata": {
        "id": "g79njrAxoSUw"
      }
    },
    {
      "cell_type": "code",
      "source": [
        "arr[:6]"
      ],
      "metadata": {
        "colab": {
          "base_uri": "https://localhost:8080/"
        },
        "id": "Caimul1GoUXO",
        "outputId": "858c78e4-177f-442c-d3ef-1d56fe0bd1bc"
      },
      "execution_count": 27,
      "outputs": [
        {
          "output_type": "execute_result",
          "data": {
            "text/plain": [
              "array([1, 2, 3, 4, 5, 6])"
            ]
          },
          "metadata": {},
          "execution_count": 27
        }
      ]
    },
    {
      "cell_type": "markdown",
      "source": [
        "En cambio, si no se le da una posición final, se regresan todos los elementos hasta el final del array."
      ],
      "metadata": {
        "id": "eVk0bEpHoann"
      }
    },
    {
      "cell_type": "code",
      "source": [],
      "metadata": {
        "id": "Z_lE7F_Ew_70"
      },
      "execution_count": null,
      "outputs": []
    },
    {
      "cell_type": "code",
      "source": [
        "arr[2:]"
      ],
      "metadata": {
        "colab": {
          "base_uri": "https://localhost:8080/"
        },
        "id": "YiL5qiLmxAB6",
        "outputId": "0a6f672e-d836-472a-877a-535b9e562f97"
      },
      "execution_count": 28,
      "outputs": [
        {
          "output_type": "execute_result",
          "data": {
            "text/plain": [
              "array([3, 4, 5, 6, 7, 8, 9])"
            ]
          },
          "metadata": {},
          "execution_count": 28
        }
      ]
    },
    {
      "cell_type": "markdown",
      "source": [
        "También se puede trabajar por pasos."
      ],
      "metadata": {
        "id": "mKMefJAYxGLN"
      }
    },
    {
      "cell_type": "code",
      "source": [
        "arr[::3]"
      ],
      "metadata": {
        "colab": {
          "base_uri": "https://localhost:8080/"
        },
        "id": "3RDDtZRwxHau",
        "outputId": "56595374-bf4d-46ac-a488-7ba1bc315c66"
      },
      "execution_count": 29,
      "outputs": [
        {
          "output_type": "execute_result",
          "data": {
            "text/plain": [
              "array([1, 4, 7])"
            ]
          },
          "metadata": {},
          "execution_count": 29
        }
      ]
    },
    {
      "cell_type": "markdown",
      "source": [
        "Cuando se le asigna un valor negativo se regresan los valores comenzando desde la última posición del array."
      ],
      "metadata": {
        "id": "lDAg68EYxVpH"
      }
    },
    {
      "cell_type": "code",
      "source": [],
      "metadata": {
        "id": "hIGdQeNbxF2m"
      },
      "execution_count": null,
      "outputs": []
    },
    {
      "cell_type": "code",
      "source": [
        "arr[-1]"
      ],
      "metadata": {
        "colab": {
          "base_uri": "https://localhost:8080/"
        },
        "id": "o_JqyewoxXW3",
        "outputId": "f1fec002-c648-42b3-9c94-807bf0cac5d9"
      },
      "execution_count": 30,
      "outputs": [
        {
          "output_type": "execute_result",
          "data": {
            "text/plain": [
              "9"
            ]
          },
          "metadata": {},
          "execution_count": 30
        }
      ]
    },
    {
      "cell_type": "code",
      "source": [
        "arr[-3:]"
      ],
      "metadata": {
        "colab": {
          "base_uri": "https://localhost:8080/"
        },
        "id": "06ni7nTjxb1P",
        "outputId": "a2982b87-e5df-4d8b-9f8a-dd487da058e4"
      },
      "execution_count": 31,
      "outputs": [
        {
          "output_type": "execute_result",
          "data": {
            "text/plain": [
              "array([7, 8, 9])"
            ]
          },
          "metadata": {},
          "execution_count": 31
        }
      ]
    },
    {
      "cell_type": "markdown",
      "source": [
        "Para el caso de las matrices, sucede algo similar.\n",
        "Para acceder a los valores entre filas.\n",
        "1 2 3 4 5 6 7 8 9"
      ],
      "metadata": {
        "id": "YEtfFhXPxjCW"
      }
    },
    {
      "cell_type": "code",
      "source": [
        "matriz[1:]"
      ],
      "metadata": {
        "colab": {
          "base_uri": "https://localhost:8080/"
        },
        "id": "e0E0Sr_ZxnK1",
        "outputId": "04415c53-a855-45ed-da36-b639563ffdd4"
      },
      "execution_count": 32,
      "outputs": [
        {
          "output_type": "execute_result",
          "data": {
            "text/plain": [
              "array([[4, 5, 6],\n",
              "       [7, 8, 9]])"
            ]
          },
          "metadata": {},
          "execution_count": 32
        }
      ]
    },
    {
      "cell_type": "markdown",
      "source": [
        "Para acceder a los valores entre filas y columnas."
      ],
      "metadata": {
        "id": "hUU2UktYyg9n"
      }
    },
    {
      "cell_type": "code",
      "source": [
        "matriz[1:, 0:2]"
      ],
      "metadata": {
        "colab": {
          "base_uri": "https://localhost:8080/"
        },
        "id": "rTi9d9YBym7u",
        "outputId": "f27c1289-03a2-4ab6-e1c0-74d8169ca002"
      },
      "execution_count": 33,
      "outputs": [
        {
          "output_type": "execute_result",
          "data": {
            "text/plain": [
              "array([[4, 5],\n",
              "       [7, 8]])"
            ]
          },
          "metadata": {},
          "execution_count": 33
        }
      ]
    },
    {
      "cell_type": "markdown",
      "source": [
        "**Crea una matriz de 3 dimensiones y cuéntanos:**\n",
        "\n",
        "\n",
        "¿Qué pudiste hacer?\n",
        "\n",
        "¿Cómo hacer un Slicing de los datos?"
      ],
      "metadata": {
        "id": "Pjcy7C5nyp79"
      }
    },
    {
      "cell_type": "code",
      "source": [],
      "metadata": {
        "id": "wlp5XY42y4T9"
      },
      "execution_count": null,
      "outputs": []
    }
  ]
}